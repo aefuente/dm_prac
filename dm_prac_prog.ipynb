{
 "cells": [
  {
   "cell_type": "code",
   "execution_count": 1,
   "metadata": {},
   "outputs": [],
   "source": [
    "import matplotlib.pyplot as plt\n",
    "from data import data\n",
    "import math\n",
    "import numpy as np\n",
    "import pandas as pd\n",
    "from sklearn.model_selection import cross_val_score\n",
    "from sklearn.metrics import confusion_matrix\n",
    "from sklearn.tree import DecisionTreeClassifier\n",
    "from sklearn.naive_bayes import GaussianNB\n",
    "from sklearn.cluster import KMeans\n",
    "from sklearn.preprocessing import OneHotEncoder, LabelBinarizer, LabelEncoder"
   ]
  },
  {
   "cell_type": "code",
   "execution_count": 2,
   "metadata": {},
   "outputs": [
    {
     "name": "stdout",
     "output_type": "stream",
     "text": [
      "(16281, 1)\n"
     ]
    },
    {
     "ename": "TypeError",
     "evalue": "exceptions must derive from BaseException",
     "output_type": "error",
     "traceback": [
      "\u001b[0;31m---------------------------------------------------------------------------\u001b[0m",
      "\u001b[0;31mTypeError\u001b[0m                                 Traceback (most recent call last)",
      "\u001b[0;32m/tmp/ipykernel_8412/100649633.py\u001b[0m in \u001b[0;36m<module>\u001b[0;34m\u001b[0m\n\u001b[1;32m      6\u001b[0m \u001b[0madult\u001b[0m \u001b[0;34m=\u001b[0m \u001b[0mdata\u001b[0m\u001b[0;34m(\u001b[0m\u001b[0;34m'./adult.data'\u001b[0m\u001b[0;34m,\u001b[0m \u001b[0;34m'./adult.test'\u001b[0m\u001b[0;34m,\u001b[0m \u001b[0mcolumns\u001b[0m\u001b[0;34m)\u001b[0m\u001b[0;34m\u001b[0m\u001b[0;34m\u001b[0m\u001b[0m\n\u001b[1;32m      7\u001b[0m \u001b[0mprint\u001b[0m\u001b[0;34m(\u001b[0m\u001b[0madult\u001b[0m\u001b[0;34m.\u001b[0m\u001b[0mtest_x\u001b[0m\u001b[0;34m.\u001b[0m\u001b[0mshape\u001b[0m\u001b[0;34m)\u001b[0m\u001b[0;34m\u001b[0m\u001b[0;34m\u001b[0m\u001b[0m\n\u001b[0;32m----> 8\u001b[0;31m \u001b[0;32mraise\u001b[0m\u001b[0;34m(\u001b[0m\u001b[0;34m)\u001b[0m\u001b[0;34m\u001b[0m\u001b[0;34m\u001b[0m\u001b[0m\n\u001b[0m\u001b[1;32m      9\u001b[0m \u001b[0;31m# Drop rows with unknown values\u001b[0m\u001b[0;34m\u001b[0m\u001b[0;34m\u001b[0m\u001b[0m\n\u001b[1;32m     10\u001b[0m \u001b[0madult\u001b[0m\u001b[0;34m.\u001b[0m\u001b[0mtrain_x\u001b[0m\u001b[0;34m.\u001b[0m\u001b[0mreplace\u001b[0m\u001b[0;34m(\u001b[0m\u001b[0;34m'\\?'\u001b[0m\u001b[0;34m,\u001b[0m\u001b[0mnp\u001b[0m\u001b[0;34m.\u001b[0m\u001b[0mnan\u001b[0m\u001b[0;34m,\u001b[0m \u001b[0minplace\u001b[0m\u001b[0;34m=\u001b[0m\u001b[0;32mTrue\u001b[0m\u001b[0;34m,\u001b[0m \u001b[0mregex\u001b[0m\u001b[0;34m=\u001b[0m\u001b[0;32mTrue\u001b[0m\u001b[0;34m)\u001b[0m\u001b[0;34m\u001b[0m\u001b[0;34m\u001b[0m\u001b[0m\n",
      "\u001b[0;31mTypeError\u001b[0m: exceptions must derive from BaseException"
     ]
    }
   ],
   "source": [
    "# Create Column Names\n",
    "columns = ['age', 'workclass', 'fnlwgt','education','education-num', 'marital-status', \n",
    "           'occupation', 'relationship', 'race', 'sex', 'capital-gain','capital-loss',\n",
    "           'hours-per-week','native-country', 'money']\n",
    "\n",
    "adult = data('./adult.data', './adult.test', columns)\n",
    "print(adult.test_x.shape)\n",
    "raise()\n",
    "# Drop rows with unknown values\n",
    "adult.train_x.replace('\\?',np.nan, inplace=True, regex=True)\n",
    "adult.test_x.replace('\\?', np.nan, inplace=True, regex=True)\n",
    "adult.train_x.dropna(inplace=True)\n",
    "adult.test_x.dropna(inplace=True)\n",
    "\n",
    "def invert_binary_encode(binary):\n",
    "    for index, item in enumerate(binary):\n",
    "        if item == 1:\n",
    "            binary[index] = 0\n",
    "        else:\n",
    "            binary[index] = 1\n",
    "    return binary\n",
    "\n",
    "# Encode money category to binary and create labels\n",
    "def encode_money(df):\n",
    "    lb = LabelBinarizer()\n",
    "    binary = lb.fit_transform(df['money'])\n",
    "    df.drop('money', axis=1, inplace=True)\n",
    "    return df, pd.DataFrame(binary,columns=['money'])\n",
    "\n",
    "adult.train_x, adult.train_y = encode_money(adult.train_x)\n",
    "adult.test_x, adult.test_y = encode_money(adult.test_x)\n",
    "\n",
    "\n",
    "# Do the onehotencoding\n",
    "def transform_data(enc, data, column):\n",
    "    enc_df = pd.DataFrame(enc.transform(data[[column]]).toarray(),columns=enc.categories_[0])\n",
    "    for item in enc.categories_[0]:\n",
    "        data[item.strip()] = enc_df[item].to_numpy()\n",
    "    return data\n",
    "\n",
    "# Set up the one hot encoding\n",
    "def encode(df_train, df_test, column_name):\n",
    "    # Creates the one hot encoder\n",
    "    enc = OneHotEncoder()\n",
    "    enc.fit(df_train[[column_name]])\n",
    "    \n",
    "    df_train = transform_data(enc, df_train, column_name)\n",
    "    df_test = transform_data(enc, df_test, column_name)\n",
    "    \n",
    "    # Drops the old non-encoded data\n",
    "    df_train.drop(column_name,axis=1, inplace=True)\n",
    "    df_test.drop(column_name, axis=1, inplace=True)\n",
    "    \n",
    "    return df_train, df_test\n",
    "\n",
    "\n",
    "# Sets the classes that need to be encoded\n",
    "to_encode = ['workclass','education', 'marital-status', 'occupation',\n",
    "             'relationship', 'race', 'sex', 'native-country']\n",
    "\n",
    "# Encodes all the categories\n",
    "for category in to_encode:\n",
    "    adult.train_x, adult.test_x = encode(adult.train_x, adult.test_x, category)\n"
   ]
  },
  {
   "cell_type": "markdown",
   "metadata": {},
   "source": [
    "### clf = DecisionTreeClassifier(max_depth=10, min_samples_leaf=5)\n",
    "#print(\"Cross val score:\")\n",
    "#print(cross_val_score(clf, adult_train,adult_train_label, cv=10))"
   ]
  },
  {
   "cell_type": "code",
   "execution_count": null,
   "metadata": {},
   "outputs": [],
   "source": [
    "def get_metrics(tn, fp, fn ,tp):\n",
    "    accuracy = (tn+tp)/(tn+tp+fn+fp)\n",
    "    fp_rate = fp/(fp+tn)\n",
    "    tp_rate = tp/(tp+fn)\n",
    "    precision = tp/(tp+fp)\n",
    "    recall = tp/(tp+fn)\n",
    "    f = 2 * (precision * recall) / (precision + recall)\n",
    "    return accuracy, tp_rate, fp_rate, precision, recall, f"
   ]
  },
  {
   "cell_type": "code",
   "execution_count": null,
   "metadata": {},
   "outputs": [],
   "source": [
    "clf.fit(adult.train_x,adult.train_y)\n",
    "predictions = clf.predict(adult.test_x)\n",
    "tn, fp, fn, tp = confusion_matrix(adult.test_y.to_numpy(), predictions).ravel()\n",
    "ac, tp_rate, fp_rate, precision, recall, f = get_metrics(tn,fp, fn, tp)\n",
    "print(\"{: <23}{: <10}\".format(\"Accuracy\",ac))\n",
    "print(\"{: <23}{: <10}\".format(\"True Positive Rate:\",tp_rate))\n",
    "print(\"{: <23}{: <10}\".format(\"False Positive Rate:\",fp_rate))\n",
    "print(\"{: <23}{: <10}\".format(\"Precision:\",precision))\n",
    "print(\"{: <23}{: <10}\".format(\"Recall:\",recall))\n",
    "print(\"{: <23}{: <10}\".format(\"f1_score:\",f))"
   ]
  },
  {
   "cell_type": "code",
   "execution_count": null,
   "metadata": {},
   "outputs": [],
   "source": [
    "nb = GaussianNB()\n",
    "nb.fit(adult.train_x, adult.train_y.values.ravel())\n",
    "predictions = nb.predict(adult.test_x)\n",
    "tn, fp, fn, tp = confusion_matrix(adult.test_y.to_numpy(), predictions).ravel()\n",
    "ac, tp_rate, fp_rate, precision, recall, f = get_metrics(tn,fp, fn, tp)\n",
    "print(\"{: <23}{: <10}\".format(\"Accuracy\",ac))\n",
    "print(\"{: <23}{: <10}\".format(\"True Positive Rate:\",tp_rate))\n",
    "print(\"{: <23}{: <10}\".format(\"False Positive Rate:\",fp_rate))\n",
    "print(\"{: <23}{: <10}\".format(\"Precision:\",precision))\n",
    "print(\"{: <23}{: <10}\".format(\"Recall:\",recall))\n",
    "print(\"{: <23}{: <10}\".format(\"f1_score:\",f))"
   ]
  },
  {
   "cell_type": "code",
   "execution_count": null,
   "metadata": {},
   "outputs": [],
   "source": [
    "def average_binary(data):\n",
    "    avg = data.mean()\n",
    "    data = data.to_numpy()\n",
    "    for index, item in enumerate(data):\n",
    "        if item <= avg:\n",
    "            data[index] = 0.0\n",
    "        else:\n",
    "            data[index] = 1.0\n",
    "    return data\n",
    "\n",
    "to_binary = ['age', 'fnlwgt', 'education-num', \n",
    "             'capital-gain', 'capital-loss', \n",
    "             'hours-per-week']\n",
    "\n",
    "for category in to_binary:\n",
    "    adult.train_x[category] = average_binary(adult.train_x[category])\n",
    "    adult.test_x[category] = average_binary(adult.test_x[category])\n"
   ]
  },
  {
   "cell_type": "code",
   "execution_count": null,
   "metadata": {},
   "outputs": [],
   "source": [
    "kmeans = KMeans(n_clusters=3)\n",
    "kmeans.fit(adult.train_x)\n",
    "y_kmeans = kmeans.predict(adult.train_x)\n",
    "plt.scatter(adult.train_x.iloc[:,0], adult.train_x.iloc[:,1], s=200, c=y_kmeans, cmap='viridis')\n",
    "centers = kmeans.cluster_centers_\n",
    "plt.scatter(centers[:, 0], centers[:, 1], c='black', s=200, alpha=0.5);"
   ]
  }
 ],
 "metadata": {
  "kernelspec": {
   "display_name": "Python 3 (ipykernel)",
   "language": "python",
   "name": "python3"
  },
  "language_info": {
   "codemirror_mode": {
    "name": "ipython",
    "version": 3
   },
   "file_extension": ".py",
   "mimetype": "text/x-python",
   "name": "python",
   "nbconvert_exporter": "python",
   "pygments_lexer": "ipython3",
   "version": "3.9.7"
  }
 },
 "nbformat": 4,
 "nbformat_minor": 4
}

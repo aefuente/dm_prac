{
 "cells": [
  {
   "cell_type": "code",
   "execution_count": 1,
   "metadata": {},
   "outputs": [],
   "source": [
    "import copy\n",
    "from data import data\n",
    "import math\n",
    "import numpy as np\n",
    "import pandas as pd\n",
    "import matplotlib.pyplot as plt\n",
    "from sklearn.metrics import classification_report, accuracy_score\n",
    "from sklearn.tree import DecisionTreeClassifier\n",
    "from sklearn.naive_bayes import GaussianNB\n",
    "from sklearn.cluster import KMeans\n",
    "from sklearn.neighbors import KNeighborsClassifier\n",
    "from sklearn.preprocessing import OneHotEncoder, LabelBinarizer"
   ]
  },
  {
   "cell_type": "code",
   "execution_count": 2,
   "metadata": {},
   "outputs": [],
   "source": [
    "# Create Column Names\n",
    "columns = ['age', 'workclass', 'fnlwgt','education','education-num', 'marital-status', \n",
    "           'occupation', 'relationship', 'race', 'sex', 'capital-gain','capital-loss',\n",
    "           'hours-per-week','native-country', 'money']\n",
    "\n",
    "adult = data('./adult.data', './adult.test', columns)\n",
    "\n",
    "# Drop Unkown\n",
    "adult.train_x.replace('\\?',np.nan, inplace=True, regex=True)\n",
    "adult.test_x.replace('\\?', np.nan, inplace=True, regex=True)\n",
    "adult.train_x = adult.train_x.dropna()\n",
    "adult.test_x = adult.test_x.dropna()\n",
    "\n",
    "\n",
    "# Encode money category to binary and create labels\n",
    "def encode_money(df):\n",
    "    lb = LabelBinarizer()\n",
    "    binary = lb.fit_transform(df['money'])\n",
    "    df.drop('money', axis=1, inplace=True)\n",
    "    return df, pd.DataFrame(binary,columns=['money'])\n",
    "\n",
    "adult.train_x, adult.train_y = encode_money(adult.train_x)\n",
    "adult.test_x, adult.test_y = encode_money(adult.test_x)\n",
    "\n",
    "\n",
    "# Do the onehotencoding\n",
    "def transform_data(enc, data, column):\n",
    "    enc_df = pd.DataFrame(enc.transform(data[[column]]).toarray(),columns=enc.categories_[0])\n",
    "    for item in enc.categories_[0]:\n",
    "        data[item.strip()] = enc_df[item].to_numpy()\n",
    "    return data\n",
    "\n",
    "# Set up the one hot encoding\n",
    "def encode(df_train, df_test, column_name):\n",
    "    # Creates the one hot encoder\n",
    "    enc = OneHotEncoder()\n",
    "    enc.fit(df_train[[column_name]])\n",
    "    \n",
    "    df_train = transform_data(enc, df_train, column_name)\n",
    "    df_test = transform_data(enc, df_test, column_name)\n",
    "    \n",
    "    # Drops the old non-encoded data\n",
    "    df_train.drop(column_name,axis=1, inplace=True)\n",
    "    df_test.drop(column_name, axis=1, inplace=True)\n",
    "    \n",
    "    return df_train, df_test\n",
    "\n",
    "# Sets the classes that need to be encoded\n",
    "to_encode = ['workclass','education', 'marital-status', 'occupation',\n",
    "             'relationship', 'race', 'sex', 'native-country']\n",
    "\n",
    "# Encodes all the categories\n",
    "for category in to_encode:\n",
    "    adult.train_x, adult.test_x = encode(adult.train_x, adult.test_x, category)\n",
    "\n",
    "\n",
    "adult_con = copy.deepcopy(adult)\n",
    "\n",
    "\n",
    "continous = ['age', 'fnlwgt', 'education-num', 'capital-gain', 'capital-loss',\n",
    "             'hours-per-week']\n",
    "\n",
    "# Drop Continious Attributes\n",
    "for attribute in continous:\n",
    "    adult.train_x = adult.train_x.drop(attribute, axis=1)\n",
    "    adult.test_x = adult.test_x.drop(attribute, axis=1)"
   ]
  },
  {
   "cell_type": "code",
   "execution_count": 3,
   "metadata": {
    "scrolled": true
   },
   "outputs": [
    {
     "name": "stdout",
     "output_type": "stream",
     "text": [
      "True Positive Rate:    0.524054054054054\n",
      "False Positive Rate:   0.0775596443348886\n",
      "\n",
      "\n",
      "              precision    recall  f1-score   support\n",
      "\n",
      "           0       0.86      0.92      0.89     11359\n",
      "           1       0.69      0.52      0.59      3700\n",
      "\n",
      "    accuracy                           0.82     15059\n",
      "   macro avg       0.77      0.72      0.74     15059\n",
      "weighted avg       0.81      0.82      0.82     15059\n",
      "\n"
     ]
    }
   ],
   "source": [
    "clf = DecisionTreeClassifier(max_depth=10, min_samples_leaf=5)\n",
    "clf.fit(adult.train_x,adult.train_y)\n",
    "predictions = clf.predict(adult.test_x)\n",
    "\n",
    "report = classification_report(adult.test_y, predictions, output_dict=True)\n",
    "\n",
    "print(\"{: <23}{: <10}\".format(\"True Positive Rate:\",report['1']['recall']))\n",
    "print(\"{: <23}{: <10}\\n\\n\".format(\"False Positive Rate:\",1-report['0']['recall']))\n",
    "\n",
    "print(classification_report(adult.test_y, predictions))"
   ]
  },
  {
   "cell_type": "code",
   "execution_count": 4,
   "metadata": {},
   "outputs": [
    {
     "name": "stdout",
     "output_type": "stream",
     "text": [
      "True Positive Rate:    0.93      \n",
      "False Positive Rate:   0.5814772427150277\n",
      "\n",
      "\n",
      "              precision    recall  f1-score   support\n",
      "\n",
      "           0       0.95      0.42      0.58     11359\n",
      "           1       0.34      0.93      0.50      3700\n",
      "\n",
      "    accuracy                           0.54     15059\n",
      "   macro avg       0.65      0.67      0.54     15059\n",
      "weighted avg       0.80      0.54      0.56     15059\n",
      "\n"
     ]
    }
   ],
   "source": [
    "nb = GaussianNB()\n",
    "nb.fit(adult.train_x, adult.train_y.values.ravel())\n",
    "predictions = nb.predict(adult.test_x)\n",
    "\n",
    "report = classification_report(adult.test_y, predictions, output_dict=True)\n",
    "\n",
    "print(\"{: <23}{: <10}\".format(\"True Positive Rate:\",report['1']['recall']))\n",
    "print(\"{: <23}{: <10}\\n\\n\".format(\"False Positive Rate:\",1-report['0']['recall']))\n",
    "\n",
    "print(classification_report(adult.test_y, predictions))"
   ]
  },
  {
   "cell_type": "code",
   "execution_count": 5,
   "metadata": {},
   "outputs": [],
   "source": [
    "adult = adult_con\n",
    "def average_binary(data):\n",
    "    avg = data.mean()\n",
    "    data = data.to_numpy()\n",
    "    for index, item in enumerate(data):\n",
    "        if item <= avg:\n",
    "            data[index] = 0.0\n",
    "        else:\n",
    "            data[index] = 1.0\n",
    "    return data\n",
    "\n",
    "to_binary = ['age', 'fnlwgt', 'education-num', \n",
    "             'capital-gain', 'capital-loss', \n",
    "             'hours-per-week']\n",
    "\n",
    "for category in to_binary:\n",
    "    adult.train_x[category] = average_binary(adult.train_x[category])\n",
    "    adult.test_x[category] = average_binary(adult.test_x[category])\n"
   ]
  },
  {
   "cell_type": "code",
   "execution_count": 6,
   "metadata": {},
   "outputs": [
    {
     "name": "stdout",
     "output_type": "stream",
     "text": [
      "[ 2.79013292e-01  4.78527607e-01  2.74156442e-01  5.36809816e-02\n",
      "  3.46370143e-02  2.85020450e-01  2.70961145e-02  4.93353783e-02\n",
      "  7.88471370e-01  2.41564417e-02  7.33640082e-02  3.70654397e-02\n",
      "  5.11247444e-04  3.47648262e-02  4.89519427e-02  2.03220859e-02\n",
      "  5.36809816e-03  1.16308793e-02  1.63599182e-02  1.82770961e-02\n",
      "  3.11860941e-02  3.46370143e-02  1.52862986e-01  6.90184049e-03\n",
      "  3.39851738e-01  3.64263804e-02  2.30061350e-03  1.21421268e-02\n",
      "  2.28016360e-01  2.15362986e-01 -6.39679282e-18  4.98466258e-03\n",
      "  2.31339468e-02  6.91845603e-01  4.66513292e-02  1.80214724e-02\n",
      "  7.70705521e-02  7.66871166e-04  1.69350716e-01  8.85736196e-02\n",
      "  4.69069530e-02  9.61145194e-02  7.01687117e-02  1.21037832e-01\n",
      "  8.94683027e-04  1.00843558e-01  2.50511247e-02  1.08256646e-01\n",
      "  2.85020450e-02  6.64621677e-02 -6.49480469e-15  5.31186094e-01\n",
      "  5.54703476e-02  3.17612474e-01  9.57310838e-02 -6.31439345e-16\n",
      "  1.13752556e-02  2.95245399e-02  1.01738241e-01  8.56339468e-03\n",
      "  8.48798569e-01 -1.72084569e-15  1.00000000e+00  7.66871166e-04\n",
      "  3.32310838e-03  1.66155419e-03  2.17280164e-03  1.66155419e-03\n",
      "  2.55623722e-03  7.66871166e-04  4.85685072e-03  2.93967280e-03\n",
      "  7.66871166e-04  2.55623722e-03  7.66871166e-04  3.70654397e-03\n",
      "  1.91717791e-03  7.04731412e-19  7.66871166e-04  6.39059305e-04\n",
      "  2.55623722e-04  3.45092025e-03  1.78936605e-03  1.15030675e-03\n",
      "  1.15030675e-03  2.17280164e-03  1.78936605e-03  3.83435583e-04\n",
      "  2.77351738e-02  1.27811861e-03  6.39059305e-04  1.02249489e-03\n",
      "  4.72903885e-03  1.78936605e-03  8.94683027e-04  3.83435583e-03\n",
      "  5.11247444e-04  2.17280164e-03  1.15030675e-03  3.83435583e-04\n",
      "  1.27811861e-04  9.06697342e-01  2.81186094e-03  2.55623722e-04]\n"
     ]
    }
   ],
   "source": [
    "kmeans = []\n",
    "kmeans_y = []\n",
    "\n",
    "# Build the Kmeans \n",
    "kmeans.append(KMeans(n_clusters=3))\n",
    "kmeans.append(KMeans(n_clusters=5))\n",
    "kmeans.append(KMeans(n_clusters=10))\n",
    "\n",
    "for kmean in kmeans:\n",
    "    kmean.fit(adult.train_x)\n",
    "    \n",
    "#report = classification_report(adult.test_y.tail(10), kmeans_y[2])\n",
    "\n",
    "centers = kmeans[0].cluster_centers_\n",
    "print(centers[0])\n",
    "#plt.scatter(centers[:, 0], centers[:, 2], c='black', s=200, alpha=0.5);\n",
    "\n",
    "#print(report)"
   ]
  },
  {
   "cell_type": "code",
   "execution_count": 7,
   "metadata": {},
   "outputs": [
    {
     "name": "stdout",
     "output_type": "stream",
     "text": [
      "Accuracy: 0.8\n",
      "Accuracy: 0.9\n",
      "Accuracy: 0.9\n"
     ]
    }
   ],
   "source": [
    "knn = []\n",
    "knn_y = []\n",
    "\n",
    "knn.append(KNeighborsClassifier(3))\n",
    "knn.append(KNeighborsClassifier(5))\n",
    "knn.append(KNeighborsClassifier(10))\n",
    "\n",
    "for clf in knn:\n",
    "    clf.fit(adult.train_x, adult.train_y.values.ravel())\n",
    "    pred = clf.predict(adult.test_x.tail(10))\n",
    "    print(\"Accuracy: {}\".format(accuracy_score(adult.test_y.tail(10), pred)))"
   ]
  },
  {
   "cell_type": "code",
   "execution_count": null,
   "metadata": {},
   "outputs": [],
   "source": []
  }
 ],
 "metadata": {
  "kernelspec": {
   "display_name": "Python 3 (ipykernel)",
   "language": "python",
   "name": "python3"
  },
  "language_info": {
   "codemirror_mode": {
    "name": "ipython",
    "version": 3
   },
   "file_extension": ".py",
   "mimetype": "text/x-python",
   "name": "python",
   "nbconvert_exporter": "python",
   "pygments_lexer": "ipython3",
   "version": "3.9.7"
  }
 },
 "nbformat": 4,
 "nbformat_minor": 4
}

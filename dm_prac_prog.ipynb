{
 "cells": [
  {
   "cell_type": "code",
   "execution_count": 1,
   "metadata": {},
   "outputs": [],
   "source": [
    "import copy\n",
    "from data import data\n",
    "import math\n",
    "import numpy as np\n",
    "import pandas as pd\n",
    "import matplotlib.pyplot as plt\n",
    "from sklearn.metrics import classification_report, accuracy_score\n",
    "from sklearn.tree import DecisionTreeClassifier\n",
    "from sklearn.naive_bayes import GaussianNB\n",
    "from sklearn.cluster import KMeans\n",
    "from sklearn.neighbors import KNeighborsClassifier\n",
    "from sklearn.preprocessing import OneHotEncoder, LabelBinarizer"
   ]
  },
  {
   "cell_type": "code",
   "execution_count": 8,
   "metadata": {},
   "outputs": [],
   "source": [
    "# Create Column Names\n",
    "columns = ['age', 'workclass', 'fnlwgt','education','education-num', 'marital-status', \n",
    "           'occupation', 'relationship', 'race', 'sex', 'capital-gain','capital-loss',\n",
    "           'hours-per-week','native-country', 'money']\n",
    "\n",
    "adult = data('./adult.data', './adult.test', columns)\n",
    "\n",
    "# Drop Unkown\n",
    "adult.train_x.replace('\\?',np.nan, inplace=True, regex=True)\n",
    "adult.test_x.replace('\\?', np.nan, inplace=True, regex=True)\n",
    "adult.train_x = adult.train_x.dropna()\n",
    "adult.test_x = adult.test_x.dropna()\n",
    "\n",
    "\n",
    "# Encode money category to binary and create labels\n",
    "def encode_money(df):\n",
    "    lb = LabelBinarizer()\n",
    "    df['money'] = df['money'].str.replace(\"\\.\",\"\",regex=True)\n",
    "    binary = lb.fit_transform(df['money'])\n",
    "    df.drop('money', axis=1, inplace=True)\n",
    "    return df, pd.DataFrame(binary,columns=['money'])\n",
    "\n",
    "adult.train_x, adult.train_y = encode_money(adult.train_x)\n",
    "adult.test_x, adult.test_y = encode_money(adult.test_x)\n",
    "\n",
    "\n",
    "# Do the onehotencoding\n",
    "def transform_data(enc, data, column):\n",
    "    enc_df = pd.DataFrame(enc.transform(data[[column]]).toarray(),columns=enc.categories_[0])\n",
    "    for item in enc.categories_[0]:\n",
    "        data[item.strip()] = enc_df[item].to_numpy()\n",
    "    return data\n",
    "\n",
    "# Set up the one hot encoding\n",
    "def encode(df_train, df_test, column_name):\n",
    "    # Creates the one hot encoder\n",
    "    enc = OneHotEncoder()\n",
    "    enc.fit(df_train[[column_name]])\n",
    "    \n",
    "    df_train = transform_data(enc, df_train, column_name)\n",
    "    df_test = transform_data(enc, df_test, column_name)\n",
    "    \n",
    "    # Drops the old non-encoded data\n",
    "    df_train.drop(column_name,axis=1, inplace=True)\n",
    "    df_test.drop(column_name, axis=1, inplace=True)\n",
    "    \n",
    "    return df_train, df_test\n",
    "\n",
    "# Sets the classes that need to be encoded\n",
    "to_encode = ['workclass','education', 'marital-status', 'occupation',\n",
    "             'relationship', 'race', 'sex', 'native-country']\n",
    "\n",
    "# Encodes all the categories\n",
    "for category in to_encode:\n",
    "    adult.train_x, adult.test_x = encode(adult.train_x, adult.test_x, category)\n",
    "\n",
    "\n",
    "adult_con = copy.deepcopy(adult)\n",
    "\n",
    "\n",
    "continous = ['age', 'fnlwgt', 'education-num', 'capital-gain', 'capital-loss',\n",
    "             'hours-per-week']\n",
    "\n",
    "\n",
    "adult.train_x = adult.train_x.drop(continous, axis=1)\n",
    "adult.test_x = adult.test_x.drop(continous, axis=1)"
   ]
  },
  {
   "cell_type": "code",
   "execution_count": 9,
   "metadata": {
    "scrolled": true
   },
   "outputs": [
    {
     "name": "stdout",
     "output_type": "stream",
     "text": [
      "True Positive Rate:    0.5237837837837838\n",
      "False Positive Rate:   0.0775596443348886\n",
      "\n",
      "\n",
      "              precision    recall  f1-score   support\n",
      "\n",
      "           0       0.86      0.92      0.89     11359\n",
      "           1       0.69      0.52      0.59      3700\n",
      "\n",
      "    accuracy                           0.82     15059\n",
      "   macro avg       0.77      0.72      0.74     15059\n",
      "weighted avg       0.81      0.82      0.82     15059\n",
      "\n"
     ]
    }
   ],
   "source": [
    "clf = DecisionTreeClassifier(max_depth=10, min_samples_leaf=5)\n",
    "clf.fit(adult.train_x,adult.train_y)\n",
    "predictions = clf.predict(adult.test_x)\n",
    "\n",
    "report = classification_report(adult.test_y, predictions, output_dict=True)\n",
    "\n",
    "print(\"{: <23}{: <10}\".format(\"True Positive Rate:\",report['1']['recall']))\n",
    "print(\"{: <23}{: <10}\\n\\n\".format(\"False Positive Rate:\",1-report['0']['recall']))\n",
    "\n",
    "print(classification_report(adult.test_y, predictions))"
   ]
  },
  {
   "cell_type": "code",
   "execution_count": 10,
   "metadata": {},
   "outputs": [
    {
     "name": "stdout",
     "output_type": "stream",
     "text": [
      "True Positive Rate:    0.93      \n",
      "False Positive Rate:   0.5814772427150277\n",
      "\n",
      "\n",
      "              precision    recall  f1-score   support\n",
      "\n",
      "           0       0.95      0.42      0.58     11359\n",
      "           1       0.34      0.93      0.50      3700\n",
      "\n",
      "    accuracy                           0.54     15059\n",
      "   macro avg       0.65      0.67      0.54     15059\n",
      "weighted avg       0.80      0.54      0.56     15059\n",
      "\n"
     ]
    }
   ],
   "source": [
    "nb = GaussianNB()\n",
    "nb.fit(adult.train_x, adult.train_y.values.ravel())\n",
    "predictions = nb.predict(adult.test_x)\n",
    "\n",
    "report = classification_report(adult.test_y, predictions, output_dict=True)\n",
    "\n",
    "print(\"{: <23}{: <10}\".format(\"True Positive Rate:\",report['1']['recall']))\n",
    "print(\"{: <23}{: <10}\\n\\n\".format(\"False Positive Rate:\",1-report['0']['recall']))\n",
    "\n",
    "print(classification_report(adult.test_y, predictions))"
   ]
  },
  {
   "cell_type": "code",
   "execution_count": 11,
   "metadata": {},
   "outputs": [],
   "source": [
    "adult = adult_con\n",
    "def average_binary(data):\n",
    "    avg = data.mean()\n",
    "    data = data.to_numpy()\n",
    "    for index, item in enumerate(data):\n",
    "        if item <= avg:\n",
    "            data[index] = 0.0\n",
    "        else:\n",
    "            data[index] = 1.0\n",
    "    return data\n",
    "\n",
    "to_binary = ['age', 'fnlwgt', 'education-num', \n",
    "             'capital-gain', 'capital-loss', \n",
    "             'hours-per-week']\n",
    "\n",
    "for category in to_binary:\n",
    "    adult.train_x[category] = average_binary(adult.train_x[category])\n",
    "    adult.test_x[category] = average_binary(adult.test_x[category])\n"
   ]
  },
  {
   "cell_type": "code",
   "execution_count": 12,
   "metadata": {},
   "outputs": [
    {
     "name": "stdout",
     "output_type": "stream",
     "text": [
      "[ 6.09845468e-01  4.25282778e-01  3.74940258e-01  1.21315915e-01\n",
      "  6.52381711e-02  4.22733790e-01  3.36147841e-02  6.82650948e-02\n",
      "  6.75083639e-01  6.04588179e-02  1.22032818e-01  4.01465668e-02\n",
      "  3.98279433e-04  2.37374542e-02  2.34188307e-02  7.64696511e-03\n",
      "  5.25728851e-03  1.01959535e-02  2.36577983e-02  1.53735861e-02\n",
      "  2.93930221e-02  4.62800701e-02  1.85120280e-01  1.91174128e-02\n",
      "  3.24597738e-01  6.63533535e-02  1.03552653e-03  2.86761192e-02\n",
      "  1.90138601e-01 -2.83106871e-15  7.16902979e-04  9.99283097e-01\n",
      "  4.09394740e-16 -1.88737914e-15  2.42861287e-17  7.07767178e-16\n",
      "  4.81918114e-02  2.38967660e-04  1.98263502e-01  1.71658436e-01\n",
      "  4.43683288e-02  3.45706548e-02  6.96192449e-02  4.03855345e-02\n",
      "  7.96558866e-05  1.40035049e-01  2.96319898e-02  1.18607615e-01\n",
      "  2.77202485e-02  7.66289629e-02  9.92592003e-01  2.38967660e-04\n",
      "  5.49625617e-03  1.59311773e-03  2.12330153e-15  7.96558866e-05\n",
      "  7.16902979e-03  2.94726780e-02  4.95459614e-02  6.13350327e-03\n",
      "  9.07678827e-01  8.16013923e-15  1.00000000e+00  7.96558866e-04\n",
      "  3.74382667e-03  2.94726780e-03  1.27449419e-03  3.26589135e-03\n",
      "  1.03552653e-03  9.55870639e-04  2.31002071e-03  2.62864426e-03\n",
      "  8.76214752e-04  4.30141787e-03  1.43380596e-03  1.11518241e-03\n",
      "  7.16902979e-04 -4.94667241e-19  1.14925430e-17  7.16902979e-04\n",
      "  3.98279433e-04  4.93866497e-03  1.67277362e-03  6.37247093e-04\n",
      "  3.26589135e-03  1.67277362e-03  2.15070894e-03  5.57591206e-04\n",
      "  2.11088099e-02  8.76214752e-04  1.59311773e-04  6.37247093e-04\n",
      "  6.29281504e-03  1.99139716e-03  1.19483830e-03  2.46933248e-03\n",
      "  2.38967660e-04  2.31002071e-03  1.83208539e-03  3.18623546e-04\n",
      "  5.57591206e-04  9.14130954e-01  1.59311773e-03  8.76214752e-04]\n"
     ]
    }
   ],
   "source": [
    "kmeans = []\n",
    "kmeans_y = []\n",
    "\n",
    "# Build the Kmeans \n",
    "kmeans.append(KMeans(n_clusters=3))\n",
    "kmeans.append(KMeans(n_clusters=5))\n",
    "kmeans.append(KMeans(n_clusters=10))\n",
    "\n",
    "for kmean in kmeans:\n",
    "    kmean.fit(adult.train_x)\n",
    "    \n",
    "#report = classification_report(adult.test_y.tail(10), kmeans_y[2])\n",
    "\n",
    "centers = kmeans[0].cluster_centers_\n",
    "print(centers[0])\n",
    "#plt.scatter(centers[:, 0], centers[:, 2], c='black', s=200, alpha=0.5);\n",
    "\n",
    "#print(report)"
   ]
  },
  {
   "cell_type": "code",
   "execution_count": 13,
   "metadata": {},
   "outputs": [
    {
     "name": "stdout",
     "output_type": "stream",
     "text": [
      "Accuracy: 0.8\n",
      "Accuracy: 0.7\n",
      "Accuracy: 0.8\n"
     ]
    }
   ],
   "source": [
    "knn = []\n",
    "knn_y = []\n",
    "\n",
    "knn.append(KNeighborsClassifier(3))\n",
    "knn.append(KNeighborsClassifier(5))\n",
    "knn.append(KNeighborsClassifier(10))\n",
    "\n",
    "for clf in knn:\n",
    "    clf.fit(adult.train_x, adult.train_y.values.ravel())\n",
    "    pred = clf.predict(adult.test_x.tail(10))\n",
    "    print(\"Accuracy: {}\".format(accuracy_score(adult.test_y.tail(10), pred)))"
   ]
  },
  {
   "cell_type": "code",
   "execution_count": null,
   "metadata": {},
   "outputs": [],
   "source": []
  }
 ],
 "metadata": {
  "kernelspec": {
   "display_name": "Python 3 (ipykernel)",
   "language": "python",
   "name": "python3"
  },
  "language_info": {
   "codemirror_mode": {
    "name": "ipython",
    "version": 3
   },
   "file_extension": ".py",
   "mimetype": "text/x-python",
   "name": "python",
   "nbconvert_exporter": "python",
   "pygments_lexer": "ipython3",
   "version": "3.9.7"
  }
 },
 "nbformat": 4,
 "nbformat_minor": 4
}
